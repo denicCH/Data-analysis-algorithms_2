{
 "cells": [
  {
   "cell_type": "markdown",
   "metadata": {},
   "source": [
    "### Задание1: \n",
    "Модифицировать реализацию линейной регрессии из предыдущего урока, добавив l2 регулярязационную поправку к штрафной функции: +𝑐∗∑(𝑤_j)^2 и соответствующую к выражению для производной. Опробовать реализацию на примере с полиномиальными фичами 6го порядка из данного урока. При каком значении С в воспроизводимой функции не будет воспроизводить несуществующий минимум в окрестностях x=7,5?"
   ]
  },
  {
   "cell_type": "markdown",
   "metadata": {},
   "source": [
    "Добвим в функционал ошибки l2 регулярязационную поправку.\n",
    "\n",
    "$Q(a,x) = \\frac{1}{l}\\sum\\limits_{i = 1}^l {(a(} {x_i}) - {y_i}{)^2} + \\lambda  \\cdot \\sum\\limits_{i = 1}^l {{w_i}^2} $\n",
    "\n",
    "Градиент функционала ошибки Q(w,X), для многомерной регрессии будет иметь вид:\n",
    "$${\\nabla _w}Q(w,X) = 2\\left( {\\frac{1}{l}{X^T}\\left( {Xw - y} \\right) + \\lambda  \\cdot w} \\right).$$"
   ]
  },
  {
   "cell_type": "code",
   "execution_count": 392,
   "metadata": {},
   "outputs": [],
   "source": [
    "import numpy as np\n",
    "from sklearn import datasets\n",
    "import matplotlib.pyplot as plt\n",
    "from sklearn import linear_model\n",
    "%matplotlib inline"
   ]
  },
  {
   "cell_type": "code",
   "execution_count": 447,
   "metadata": {},
   "outputs": [],
   "source": [
    "# реализуем функцию, определяющую среднеквадратичную ошибку\n",
    "def mserror(X, w, y_pred, r = 0.02):\n",
    "    y = X.dot(w)\n",
    "    return (sum((y - y_pred)**2)) / len(y) + r*sum(w**2)"
   ]
  },
  {
   "cell_type": "code",
   "execution_count": 217,
   "metadata": {},
   "outputs": [],
   "source": [
    "def generate_features(x, max_power):\n",
    "    x=x[:, np.newaxis]\n",
    "    return np.concatenate([x**i for i in range(1, max_power+1)], axis=1)"
   ]
  },
  {
   "cell_type": "code",
   "execution_count": 584,
   "metadata": {},
   "outputs": [],
   "source": [
    "def polynomial(coef, x, max_power):\n",
    "    X = generate_features(x, max_power)\n",
    "    return np.dot(X, coef.T)"
   ]
  },
  {
   "cell_type": "markdown",
   "metadata": {},
   "source": [
    "**Модифицируем код с учетом L2 регуляризации**"
   ]
  },
  {
   "cell_type": "code",
   "execution_count": 583,
   "metadata": {},
   "outputs": [],
   "source": [
    "\n",
    "    def linear_regression(w, X, Y, r=10, max_iter=1e4, alpha=1e-6, min_weight_dist=1e-8):\n",
    "        \"\"\"\n",
    "        alpha - шаг градиентного спуска\n",
    "        w - начальные веса\n",
    "        r - коэффициент регуляризации\n",
    "        max_iter - максимальное число итераций\n",
    "        min_weight_dist - критерий сходимости (разница весов, при которой алгоритм останавливается)\n",
    "        \"\"\"\n",
    "        #список векторов весов после каждой итерации\n",
    "        w_list = [w.copy()]\n",
    "\n",
    "        # список значений ошибок после каждой итерации\n",
    "        errors = []\n",
    "\n",
    "        # зададим начальную разницу весов большим числом\n",
    "        weight_dist = np.inf\n",
    "\n",
    "        # счетчик итераций\n",
    "        iter_num = 0\n",
    "\n",
    "        # ход градиентного спуска\n",
    "        while weight_dist > min_weight_dist and iter_num < max_iter:\n",
    "            new_w = w - alpha * 2 *(np.dot(X.T, (np.dot(X, w) - Y)) / Y.shape[0] + r*w)\n",
    "            weight_dist = np.linalg.norm(new_w - w, ord=2)\n",
    "            iter_num += 1\n",
    "            w = new_w\n",
    "        w_list = np.array(w_list)\n",
    "        \n",
    "        return {\"coef\":new_w}"
   ]
  },
  {
   "cell_type": "code",
   "execution_count": 575,
   "metadata": {},
   "outputs": [],
   "source": [
    "def f(x):\n",
    "    return 0.6 - 13.2 * x - 5.3 * x ** 2 - 4.17 * x ** 3\n",
    "\n",
    "dots = np.linspace(-10, 10, 100)\n",
    "np.random.seed(16)\n",
    "x_data = np.random.uniform(-10, 10, 20)\n",
    "f_data = [f(i) for i in x_data] + np.random.uniform(-2000, 2000, 20)\n",
    "# возьмем нулевые начальные веса\n",
    "w = np.zeros(6)\n",
    "X = generate_features(x_data, 6)\n"
   ]
  },
  {
   "cell_type": "code",
   "execution_count": 581,
   "metadata": {},
   "outputs": [
    {
     "data": {
      "text/plain": [
       "array([-6.88213345e-06, -4.46969831e-06, -5.29180968e-04,  9.44256472e-05,\n",
       "       -3.89736074e-02,  1.50463010e-03])"
      ]
     },
     "execution_count": 581,
     "metadata": {},
     "output_type": "execute_result"
    }
   ],
   "source": [
    "coef = linear_regression(w, X, f_data, alpha=1e-11, r=1e5, min_weight_dist=1e-4)\n",
    "coef['coef']"
   ]
  },
  {
   "cell_type": "code",
   "execution_count": 582,
   "metadata": {
    "scrolled": true
   },
   "outputs": [
    {
     "data": {
      "text/plain": [
       "[<matplotlib.lines.Line2D at 0x1cd79a83908>]"
      ]
     },
     "execution_count": 582,
     "metadata": {},
     "output_type": "execute_result"
    },
    {
     "data": {
      "image/png": "[encoded data removed]",
      "text/plain": [
       "<Figure size 432x288 with 1 Axes>"
      ]
     },
     "metadata": {
      "needs_background": "light"
     },
     "output_type": "display_data"
    }
   ],
   "source": [
    "plt.xlabel('x')\n",
    "plt.ylabel('f(x)')\n",
    "plt.ylim(-5000, 5000)\n",
    "plt.xlim(-10,10)\n",
    "plt.plot(dots, f(dots), color='g')\n",
    "plt.scatter(x_data, f_data)\n",
    "plt.plot(dots, polynomial(coef['coef'], dots, 6), color='r')\n"
   ]
  },
  {
   "cell_type": "code",
   "execution_count": 394,
   "metadata": {},
   "outputs": [],
   "source": [
    "def play_model(_x, model):\n",
    "    data=generate_features(_x, len(model.coef_))\n",
    "    return (data.dot(model.coef_[:, np.newaxis])+model.intercept_).flatten()"
   ]
  },
  {
   "cell_type": "markdown",
   "metadata": {},
   "source": [
    "### Задание2:\n",
    "Модифицировать пример со стохастическим градиентом из этого урока, реализовав в нём рассчёт градиента по десяти случайно выбираемым объектам (mini-batch градиент)."
   ]
  },
  {
   "cell_type": "code",
   "execution_count": null,
   "metadata": {},
   "outputs": [],
   "source": [
    "Доделываю, до 20:00 25.01.2021"
   ]
  }
 ],
 "metadata": {
  "kernelspec": {
   "display_name": "Python 3",
   "language": "python",
   "name": "python3"
  },
  "language_info": {
   "codemirror_mode": {
    "name": "ipython",
    "version": 3
   },
   "file_extension": ".py",
   "mimetype": "text/x-python",
   "name": "python",
   "nbconvert_exporter": "python",
   "pygments_lexer": "ipython3",
   "version": "3.7.4"
  }
 },
 "nbformat": 4,
 "nbformat_minor": 2
}
