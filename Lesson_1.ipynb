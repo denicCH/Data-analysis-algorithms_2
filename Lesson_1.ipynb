{
 "cells": [
  {
   "cell_type": "code",
   "execution_count": 3,
   "metadata": {},
   "outputs": [],
   "source": [
    "import matplotlib\n",
    "import numpy as np\n",
    "import matplotlib.pyplot as plt\n",
    "%matplotlib inline"
   ]
  },
  {
   "cell_type": "markdown",
   "metadata": {},
   "source": [
    "### Реализовать оптимизацию методом градиентного спуска для x^2(np.sin(0,5_x)^2+1). Какие параметры шага и количества итераций оптимальны? При каких значениях шага оптимизиция не выходит из локальных минимумов?"
   ]
  },
  {
   "cell_type": "code",
   "execution_count": 4,
   "metadata": {},
   "outputs": [],
   "source": [
    "x = np.linspace(-50, 50, 5000)"
   ]
  },
  {
   "cell_type": "markdown",
   "metadata": {},
   "source": [
    "Найдем производную заданной функции: $x^2\\cdot\\left(\\sin{(\\frac12x)}^2+1\\right)$"
   ]
  },
  {
   "attachments": {},
   "cell_type": "markdown",
   "metadata": {},
   "source": [
    "${\\left( {{x^2} \\cdot \\left( {\\sin {{(\\frac{1}{2}x)}^2} + 1} \\right)} \\right)^\\prime } = 2 \\cdot x \\cdot \\left( {\\sin {{(\\frac{1}{2}x)}^2} + 1} \\right) + {x^2} \\cdot \\left( {2 \\cdot \\sin (\\frac{1}{2}x) \\cdot \\cos (\\frac{1}{2}x) \\cdot \\frac{1}{2}} \\right) = 2 \\cdot x \\cdot \\left( {\\sin {{(\\frac{1}{2}x)}^2} + 1} \\right) + \\frac{1}{2}\\sin (x)$"
   ]
  },
  {
   "cell_type": "code",
   "execution_count": 12,
   "metadata": {},
   "outputs": [
    {
     "name": "stdout",
     "output_type": "stream",
     "text": [
      "Aргумент x = -1.7923640612806058e-07, при котором значение функции является экстремумом, func2_ = 3.212568928170333e-14\n",
      "Количество итераций 304\n"
     ]
    },
    {
     "data": {
      "image/png": "[encoded data removed]",
      "text/plain": [
       "<Figure size 432x288 with 1 Axes>"
      ]
     },
     "metadata": {
      "needs_background": "light"
     },
     "output_type": "display_data"
    },
    {
     "name": "stdout",
     "output_type": "stream",
     "text": [
      "-1.7923640612806058e-07 3.212568928170333e-14 304\n"
     ]
    }
   ],
   "source": [
    "def func2(_x): return (_x**2)*(np.sin(0.5*_x)**2+1)\n",
    "# Производная функции func2\n",
    "def func2_(_x): return 2*(_x)*(np.sin(0.5*_x)**2+1)+0.5*(_x**2)*(np.sin(_x))\n",
    "alpha = 0.0255\n",
    "# критерий сходимости (разница весов, при которой алгоритм останавливается)\n",
    "min_weight_dist = 1e-8\n",
    "# счетчик итераций\n",
    "t = 0\n",
    "x_ = 50\n",
    "weight_dist = min_weight_dist-1\n",
    "iter_ = 5000\n",
    "while abs(weight_dist) > min_weight_dist and t < iter_:\n",
    "    t += 1\n",
    "    # градиент функции func2\n",
    "    new_x = x_ - alpha*func2_(x_)\n",
    "    weight_dist = new_x - x_\n",
    "    x_ = new_x    \n",
    "print(f'Aргумент x = {new_x}, при котором значение функции является экстремумом, func2_ = {func2(new_x)}')\n",
    "print(f'Количество итераций {t}')\n",
    "\n",
    "plt.scatter(new_x, func2(new_x),c = 'red')\n",
    "plt.plot(x, func2(x))\n",
    "plt.show()\n",
    "print(new_x, func2(new_x), t)"
   ]
  },
  {
   "cell_type": "markdown",
   "metadata": {},
   "source": [
    "Вывод:\n",
    "\n",
    "Для поиска глобального минимума, оптимальными параметрами являются, скорость градиентного спуска alpha = 0.0255, количество итераций t = 304 при точности $1e - 8$. Оптимизация не выходит из локальных минимумов при alpha < 0.0255\n",
    "."
   ]
  },
  {
   "cell_type": "code",
   "execution_count": null,
   "metadata": {},
   "outputs": [],
   "source": []
  }
 ],
 "metadata": {
  "kernelspec": {
   "display_name": "Python 3",
   "language": "python",
   "name": "python3"
  },
  "language_info": {
   "codemirror_mode": {
    "name": "ipython",
    "version": 3
   },
   "file_extension": ".py",
   "mimetype": "text/x-python",
   "name": "python",
   "nbconvert_exporter": "python",
   "pygments_lexer": "ipython3",
   "version": "3.7.4"
  }
 },
 "nbformat": 4,
 "nbformat_minor": 4
}
